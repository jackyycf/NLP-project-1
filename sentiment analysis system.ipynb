{
 "cells": [
  {
   "cell_type": "code",
   "execution_count": 7,
   "id": "07084ed0",
   "metadata": {},
   "outputs": [],
   "source": [
    "import csv\n",
    "import math\n",
    "import random\n",
    "import numpy as np\n",
    "import pandas as pd\n",
    "#load data from csv\n",
    "data= pd.read_csv(open(\"Your own path\",errors='ignore'))\n",
    "#drop usless data\n",
    "df=data[[\"type\",\"review\",\"label\"]][data['label']!='unsup']"
   ]
  },
  {
   "cell_type": "code",
   "execution_count": 8,
   "id": "9ea006e3",
   "metadata": {},
   "outputs": [
    {
     "data": {
      "text/html": [
       "<div>\n",
       "<style scoped>\n",
       "    .dataframe tbody tr th:only-of-type {\n",
       "        vertical-align: middle;\n",
       "    }\n",
       "\n",
       "    .dataframe tbody tr th {\n",
       "        vertical-align: top;\n",
       "    }\n",
       "\n",
       "    .dataframe thead th {\n",
       "        text-align: right;\n",
       "    }\n",
       "</style>\n",
       "<table border=\"1\" class=\"dataframe\">\n",
       "  <thead>\n",
       "    <tr style=\"text-align: right;\">\n",
       "      <th></th>\n",
       "      <th>type</th>\n",
       "      <th>review</th>\n",
       "      <th>label</th>\n",
       "    </tr>\n",
       "  </thead>\n",
       "  <tbody>\n",
       "    <tr>\n",
       "      <th>0</th>\n",
       "      <td>test</td>\n",
       "      <td>Once again Mr. Costner has dragged out a movie...</td>\n",
       "      <td>neg</td>\n",
       "    </tr>\n",
       "    <tr>\n",
       "      <th>1</th>\n",
       "      <td>test</td>\n",
       "      <td>This is an example of why the majority of acti...</td>\n",
       "      <td>neg</td>\n",
       "    </tr>\n",
       "    <tr>\n",
       "      <th>2</th>\n",
       "      <td>test</td>\n",
       "      <td>First of all I hate those moronic rappers, who...</td>\n",
       "      <td>neg</td>\n",
       "    </tr>\n",
       "    <tr>\n",
       "      <th>3</th>\n",
       "      <td>test</td>\n",
       "      <td>Not even the Beatles could write songs everyon...</td>\n",
       "      <td>neg</td>\n",
       "    </tr>\n",
       "    <tr>\n",
       "      <th>4</th>\n",
       "      <td>test</td>\n",
       "      <td>Brass pictures (movies is not a fitting word f...</td>\n",
       "      <td>neg</td>\n",
       "    </tr>\n",
       "    <tr>\n",
       "      <th>...</th>\n",
       "      <td>...</td>\n",
       "      <td>...</td>\n",
       "      <td>...</td>\n",
       "    </tr>\n",
       "    <tr>\n",
       "      <th>49995</th>\n",
       "      <td>train</td>\n",
       "      <td>Seeing as the vote average was pretty low, and...</td>\n",
       "      <td>pos</td>\n",
       "    </tr>\n",
       "    <tr>\n",
       "      <th>49996</th>\n",
       "      <td>train</td>\n",
       "      <td>The plot had some wretched, unbelievable twist...</td>\n",
       "      <td>pos</td>\n",
       "    </tr>\n",
       "    <tr>\n",
       "      <th>49997</th>\n",
       "      <td>train</td>\n",
       "      <td>I am amazed at how this movie(and most others ...</td>\n",
       "      <td>pos</td>\n",
       "    </tr>\n",
       "    <tr>\n",
       "      <th>49998</th>\n",
       "      <td>train</td>\n",
       "      <td>A Christmas Together actually came before my t...</td>\n",
       "      <td>pos</td>\n",
       "    </tr>\n",
       "    <tr>\n",
       "      <th>49999</th>\n",
       "      <td>train</td>\n",
       "      <td>Working-class romantic drama from director Mar...</td>\n",
       "      <td>pos</td>\n",
       "    </tr>\n",
       "  </tbody>\n",
       "</table>\n",
       "<p>50000 rows × 3 columns</p>\n",
       "</div>"
      ],
      "text/plain": [
       "        type                                             review label\n",
       "0       test  Once again Mr. Costner has dragged out a movie...   neg\n",
       "1       test  This is an example of why the majority of acti...   neg\n",
       "2       test  First of all I hate those moronic rappers, who...   neg\n",
       "3       test  Not even the Beatles could write songs everyon...   neg\n",
       "4       test  Brass pictures (movies is not a fitting word f...   neg\n",
       "...      ...                                                ...   ...\n",
       "49995  train  Seeing as the vote average was pretty low, and...   pos\n",
       "49996  train  The plot had some wretched, unbelievable twist...   pos\n",
       "49997  train  I am amazed at how this movie(and most others ...   pos\n",
       "49998  train  A Christmas Together actually came before my t...   pos\n",
       "49999  train  Working-class romantic drama from director Mar...   pos\n",
       "\n",
       "[50000 rows x 3 columns]"
      ]
     },
     "execution_count": 8,
     "metadata": {},
     "output_type": "execute_result"
    }
   ],
   "source": [
    "df"
   ]
  },
  {
   "cell_type": "code",
   "execution_count": 10,
   "id": "694aa62f",
   "metadata": {},
   "outputs": [
    {
     "name": "stderr",
     "output_type": "stream",
     "text": [
      "[nltk_data] Downloading package stopwords to\n",
      "[nltk_data]     C:\\Users\\i7546\\AppData\\Roaming\\nltk_data...\n",
      "[nltk_data]   Unzipping corpora\\stopwords.zip.\n"
     ]
    }
   ],
   "source": [
    "import nltk\n",
    "from nltk.corpus import stopwords\n",
    "from nltk.stem import PorterStemmer\n",
    "from nltk.stem import WordNetLemmatizer\n",
    "nltk.download('stopwords')\n",
    "#lemmatizer=WordNetLemmatizer()\n",
    "stop_words = set(stopwords.words('english'))\n",
    "\n",
    "def data_preprocessing(df,stop_word,stem):\n",
    "    df_tmp=df.copy()\n",
    "    for i in range(len(df)):\n",
    "        word_tokens = nltk.wordpunct_tokenize(df.review[i].lower())\n",
    "        if(stop_word==True):\n",
    "            df_tmp.review[i] = [w for w in word_tokens if not w in stop_words]\n",
    "        else:\n",
    "            df_tmp.review[i] = word_tokens\n",
    "        if(stem==True):\n",
    "            for j in range(len(df_tmp.review[i])):\n",
    "                df_tmp.review[i][j] =  PorterStemmer().stem(df_tmp.review[i][j])\n",
    "        if(df_tmp.label[i]=='pos'):\n",
    "            df_tmp.label[i]=1\n",
    "        else:\n",
    "            df_tmp.label[i]=0\n",
    "    train_data=df_tmp[df_tmp.type=='train']\n",
    "    test_data=df_tmp[df_tmp.type=='test']\n",
    "    return train_data,test_data"
   ]
  },
  {
   "cell_type": "code",
   "execution_count": 11,
   "id": "bd9b5fd5",
   "metadata": {},
   "outputs": [],
   "source": [
    "#use neither stop words or lemmatization\n",
    "train_data1,test_data1=data_preprocessing(df,stop_word=False,stem=False)\n",
    "train_data1=train_data1.reset_index()"
   ]
  },
  {
   "cell_type": "code",
   "execution_count": 12,
   "id": "bf0bbb28",
   "metadata": {},
   "outputs": [],
   "source": [
    "#use only stop words\n",
    "train_data2,test_data2=data_preprocessing(df,stop_word=True,stem=False)\n",
    "train_data2=train_data2.reset_index()"
   ]
  },
  {
   "cell_type": "code",
   "execution_count": 13,
   "id": "8d582ab9",
   "metadata": {},
   "outputs": [],
   "source": [
    "#use stop words and lemmatization\n",
    "train_data3,test_data3=data_preprocessing(df,stop_word=True,stem=True)\n",
    "train_data3=train_data3.reset_index()"
   ]
  },
  {
   "cell_type": "code",
   "execution_count": 14,
   "id": "bf4068ab",
   "metadata": {},
   "outputs": [],
   "source": [
    "def train(train_data):\n",
    "    num={}#number of positive cases and negative cases\n",
    "    p={}#probability of positive words and negative words\n",
    "    v=set()#number of total words\n",
    "    word_counts={}#number of positive words and negative words\n",
    "    num['pos']=len(train_data[train_data.label==1])\n",
    "    num['neg']=len(train_data[train_data.label==0])\n",
    "    p['pos']=math.log(num['pos']/len(train_data))\n",
    "    p['neg']=math.log(num['neg']/len(train_data))\n",
    "    word_counts['pos'] = {}\n",
    "    word_counts['neg'] = {}\n",
    "    for i in range(len(train_data)):\n",
    "        count_word={}\n",
    "        for j in train_data.review[i]:\n",
    "            count_word[j]=count_word.get(j,0.0)+1.0\n",
    "        for x,y in count_word.items():\n",
    "            if x not in v:\n",
    "                v.add(x)\n",
    "            if(train_data.label[i]==1):\n",
    "                if x not in word_counts['pos']:\n",
    "                    word_counts['pos'][x]=0.0\n",
    "                else:\n",
    "                    word_counts['pos'][x]+=y\n",
    "            if(train_data.label[i]==0):\n",
    "                if x not in word_counts['neg']:\n",
    "                    word_counts['neg'][x]=0.0\n",
    "                else:\n",
    "                    word_counts['neg'][x]+=y\n",
    "    return num,p,v,word_counts"
   ]
  },
  {
   "cell_type": "code",
   "execution_count": 15,
   "id": "9783a3a3",
   "metadata": {},
   "outputs": [],
   "source": [
    "num1,p1,v1,word_counts1=train(train_data1)"
   ]
  },
  {
   "cell_type": "code",
   "execution_count": 16,
   "id": "3e5c1597",
   "metadata": {},
   "outputs": [],
   "source": [
    "num2,p2,v2,word_counts2=train(train_data2)"
   ]
  },
  {
   "cell_type": "code",
   "execution_count": 17,
   "id": "ea15b5d7",
   "metadata": {},
   "outputs": [],
   "source": [
    "num3,p3,v3,word_counts3=train(train_data3)"
   ]
  },
  {
   "cell_type": "code",
   "execution_count": 12,
   "id": "e7a373b7",
   "metadata": {},
   "outputs": [],
   "source": [
    "def predict(test_data,num,p,v,word_count):\n",
    "    result=[]\n",
    "    for i in range(len(test_data)):\n",
    "        count_word={}\n",
    "        pos_score,neg_score=0,0\n",
    "        for j in test_data.review[i]:#count test review's words\n",
    "            count_word[j]=count_word.get(j,0.0)+1.0\n",
    "        for m,n in count_word.items(): \n",
    "            pos_score+=math.log((word_count['pos'].get(m,0.0)+1)/(num['pos']+len(v)))\n",
    "            neg_score+=math.log((word_count['neg'].get(m,0.0)+1)/(num['neg']+len(v)))\n",
    "        pos_score+=p['pos']\n",
    "        neg_score+=p['neg']\n",
    "        if pos_score>neg_score:\n",
    "            result.append(1)\n",
    "        else:\n",
    "            result.append(0)\n",
    "    return result"
   ]
  },
  {
   "cell_type": "code",
   "execution_count": 13,
   "id": "41018d22",
   "metadata": {},
   "outputs": [],
   "source": [
    "pred1=predict(test_data1,num1,p1,v1,word_counts1)"
   ]
  },
  {
   "cell_type": "code",
   "execution_count": 14,
   "id": "41372ece",
   "metadata": {},
   "outputs": [],
   "source": [
    "pred2=predict(test_data2,num2,p2,v2,word_counts2)"
   ]
  },
  {
   "cell_type": "code",
   "execution_count": 15,
   "id": "45b059e3",
   "metadata": {},
   "outputs": [],
   "source": [
    "pred3=predict(test_data3,num3,p3,v3,word_counts3)"
   ]
  },
  {
   "cell_type": "code",
   "execution_count": 16,
   "id": "1856acaf",
   "metadata": {},
   "outputs": [],
   "source": [
    "def f1(pred,labels):\n",
    "    TP,FP,FN=0,0,0\n",
    "    for i in range(len(pred)):\n",
    "        if(pred[i]==labels[i]):\n",
    "            TP=TP+1\n",
    "        elif(pred[i]!=labels[i] and pred[i]==1):\n",
    "            FP=FP+1\n",
    "        elif(pred[i]!=labels[i] and pred[i]==0):\n",
    "            FN=FN+1\n",
    "    precision=TP/(TP+FP)\n",
    "    recall=TP/(TP+FN)\n",
    "    result=2*precision*recall/(precision+recall)\n",
    "    return result"
   ]
  },
  {
   "cell_type": "code",
   "execution_count": 17,
   "id": "0e12b3b2",
   "metadata": {
    "scrolled": false
   },
   "outputs": [
    {
     "name": "stdout",
     "output_type": "stream",
     "text": [
      "F1-Score:0.9077484326190007\n"
     ]
    }
   ],
   "source": [
    "print(\"F1-Score:\"+str(f1(pred1, test_data1.label)))"
   ]
  },
  {
   "cell_type": "code",
   "execution_count": 18,
   "id": "05737c76",
   "metadata": {},
   "outputs": [
    {
     "name": "stdout",
     "output_type": "stream",
     "text": [
      "F1-Score:0.9111498257839722\n"
     ]
    }
   ],
   "source": [
    "print(\"F1-Score:\"+str(f1(pred2, test_data2.label)))"
   ]
  },
  {
   "cell_type": "code",
   "execution_count": 19,
   "id": "21709fbc",
   "metadata": {},
   "outputs": [
    {
     "name": "stdout",
     "output_type": "stream",
     "text": [
      "F1-Score:0.9081777486625179\n"
     ]
    }
   ],
   "source": [
    "print(\"F1-Score:\"+str(f1(pred3, test_data3.label)))"
   ]
  }
 ],
 "metadata": {
  "kernelspec": {
   "display_name": "Python 3 (ipykernel)",
   "language": "python",
   "name": "python3"
  },
  "language_info": {
   "codemirror_mode": {
    "name": "ipython",
    "version": 3
   },
   "file_extension": ".py",
   "mimetype": "text/x-python",
   "name": "python",
   "nbconvert_exporter": "python",
   "pygments_lexer": "ipython3",
   "version": "3.9.13"
  }
 },
 "nbformat": 4,
 "nbformat_minor": 5
}
